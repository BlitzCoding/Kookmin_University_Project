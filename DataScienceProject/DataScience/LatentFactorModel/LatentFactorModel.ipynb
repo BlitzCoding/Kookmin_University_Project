{
  "nbformat": 4,
  "nbformat_minor": 0,
  "metadata": {
    "colab": {
      "name": "Untitled4.ipynb",
      "provenance": [],
      "collapsed_sections": [],
      "toc_visible": true
    },
    "kernelspec": {
      "name": "python3",
      "display_name": "Python 3"
    },
    "language_info": {
      "name": "python"
    }
  },
  "cells": [
    {
      "cell_type": "code",
      "metadata": {
        "colab": {
          "base_uri": "https://localhost:8080/"
        },
        "id": "2RZodLvfH04y",
        "outputId": "0a0ecebf-aedb-4060-f2a7-f09047744007"
      },
      "source": [
        "from google.colab import drive\n",
        "drive.mount('/content/gdrive')"
      ],
      "execution_count": 1,
      "outputs": [
        {
          "output_type": "stream",
          "name": "stdout",
          "text": [
            "Mounted at /content/gdrive\n"
          ]
        }
      ]
    },
    {
      "cell_type": "code",
      "metadata": {
        "colab": {
          "base_uri": "https://localhost:8080/"
        },
        "id": "AYFxELD1Jbas",
        "outputId": "4a63acef-6925-417a-a3a2-d312f35f3fd3"
      },
      "source": [
        "!ls \"/content/gdrive/My Drive/DS/ml-100k\""
      ],
      "execution_count": 2,
      "outputs": [
        {
          "output_type": "stream",
          "name": "stdout",
          "text": [
            "allbut.pl  u1.base  u2.test  u4.base  u5.test  ub.base\tu.genre  u.occupation\n",
            "mku.sh\t   u1.test  u3.base  u4.test  ua.base  ub.test\tu.info\t u.user\n",
            "README\t   u2.base  u3.test  u5.base  ua.test  u.data\tu.item\n"
          ]
        }
      ]
    },
    {
      "cell_type": "code",
      "metadata": {
        "id": "LW2R2FzKJitw"
      },
      "source": [
        "import torch\n",
        "import pandas as pd\n",
        "import torch.nn.functional as F\n",
        "import matplotlib.pyplot as plt\n",
        "\n",
        "train = pd.read_csv(\"/content/gdrive/My Drive/DS/ml-100k/ua.base\", sep=\"\\t\", names=['user', 'movie', 'rating', 'timestamp'])\n",
        "test = pd.read_csv(\"/content/gdrive/My Drive/DS/ml-100k/ua.test\", sep=\"\\t\", names=['user', 'movie', 'rating', 'timestamp'])"
      ],
      "execution_count": 3,
      "outputs": []
    },
    {
      "cell_type": "code",
      "metadata": {
        "colab": {
          "base_uri": "https://localhost:8080/"
        },
        "id": "Po0pAYEsKBCp",
        "outputId": "2a6437cd-823d-40b2-b080-a39a159fac6a"
      },
      "source": [
        "items = torch.LongTensor(train['movie'])\n",
        "users = torch.LongTensor(train['user'])\n",
        "ratings = torch.FloatTensor(train['rating'])\n",
        "items_test = torch.LongTensor(test['movie'])\n",
        "users_test = torch.LongTensor(test['user'])\n",
        "ratings_test = torch.FloatTensor(test['rating'])\n",
        "\n",
        "users"
      ],
      "execution_count": 4,
      "outputs": [
        {
          "output_type": "execute_result",
          "data": {
            "text/plain": [
              "tensor([  1,   1,   1,  ..., 943, 943, 943])"
            ]
          },
          "metadata": {},
          "execution_count": 4
        }
      ]
    },
    {
      "cell_type": "code",
      "metadata": {
        "id": "PTFNXk_eKvG8"
      },
      "source": [
        "rank = 10\n",
        "numItems = items.max() + 1\n",
        "numUsers = users.max() + 1\n",
        "P = torch.randn(numItems, rank, requires_grad=True)\n",
        "Q = torch.randn(numUsers, rank, requires_grad=True)"
      ],
      "execution_count": 13,
      "outputs": []
    },
    {
      "cell_type": "code",
      "metadata": {
        "colab": {
          "base_uri": "https://localhost:8080/"
        },
        "id": "g0al4-usMBzO",
        "outputId": "9a17eba7-3a80-401e-93d9-45556854ff80"
      },
      "source": [
        "optimizer = torch.optim.Adam([P,Q], lr = 0.1)\n",
        "X = []\n",
        "Y = []\n",
        "Y_test = []\n",
        "\n",
        "for epoch in range(1001):\n",
        "  hypo = (P[items] * Q[users]).sum(dim = 1)\n",
        "  cost = F.mse_loss(hypo, ratings)\n",
        "\n",
        "  optimizer.zero_grad()\n",
        "  cost.backward()\n",
        "  optimizer.step()\n",
        "\n",
        "  X.append(epoch)\n",
        "  Y.append(cost)\n",
        "\n",
        "  with torch.no_grad():\n",
        "    hypo_test = torch.sum(P[items_test] * Q[users_test], dim=1)\n",
        "    cost_test = F.mse_loss(hypo_test, ratings_test)\n",
        "    Y_test.append(cost_test)\n",
        "    if epoch % 100 == 0:\n",
        "      print(\"epoch: {}, cost: {:.6f}\" .format(epoch, cost.item()))"
      ],
      "execution_count": 16,
      "outputs": [
        {
          "output_type": "stream",
          "name": "stdout",
          "text": [
            "epoch: 0, cost: 23.940563\n",
            "epoch: 100, cost: 0.568334\n",
            "epoch: 200, cost: 0.496013\n",
            "epoch: 300, cost: 0.473096\n",
            "epoch: 400, cost: 0.463167\n",
            "epoch: 500, cost: 0.457312\n",
            "epoch: 600, cost: 0.453400\n",
            "epoch: 700, cost: 0.450611\n",
            "epoch: 800, cost: 0.448424\n",
            "epoch: 900, cost: 0.446632\n",
            "epoch: 1000, cost: 0.445163\n"
          ]
        }
      ]
    },
    {
      "cell_type": "code",
      "metadata": {
        "colab": {
          "base_uri": "https://localhost:8080/",
          "height": 282
        },
        "id": "jReJZ95PM0zB",
        "outputId": "4b27af23-3de8-4dab-c0f3-6313ce9e5f68"
      },
      "source": [
        "plt.ylabel(\"MSE\")\n",
        "plt.xlabel(\"Epoch\")\n",
        "plt.plot(X,Y, c=\"blue\", label=\"Training MSE\")\n",
        "plt.plot(X,Y_test, c=\"red\", label=\"Test MSE\")\n",
        "plt.legend()\n",
        "plt.show()"
      ],
      "execution_count": 17,
      "outputs": [
        {
          "output_type": "display_data",
          "data": {
            "image/png": "[encoded data removed]",
            "text/plain": [
              "<Figure size 432x288 with 1 Axes>"
            ]
          },
          "metadata": {
            "needs_background": "light"
          }
        }
      ]
    },
    {
      "cell_type": "code",
      "metadata": {
        "colab": {
          "base_uri": "https://localhost:8080/"
        },
        "id": "vdzRsPoKeSwz",
        "outputId": "de2a16cf-b8dd-4ff7-9051-be0e879e7723"
      },
      "source": [
        "rank = 10\n",
        "numItems = items.max() + 1\n",
        "numUsers = users.max() + 1\n",
        "P = torch.randn(numItems, rank, requires_grad=True)\n",
        "Q = torch.randn(numUsers, rank, requires_grad=True)\n",
        "\n",
        "optimizer = torch.optim.Adam([P,Q], lr = 0.1)\n",
        "X = []\n",
        "Y = []\n",
        "Y_test = []\n",
        "\n",
        "lambda_P = 0.0001\n",
        "lambda_Q = 0.0001\n",
        "\n",
        "for epoch in range(1001):\n",
        "  hypo = (P[items] * Q[users]).sum(dim = 1)\n",
        "  mse = F.mse_loss(hypo, ratings)\n",
        "  cost = mse + lambda_P * (P**2).sum() + lambda_Q *(Q ** 2).sum()\n",
        "  \n",
        "\n",
        "  optimizer.zero_grad()\n",
        "  cost.backward()\n",
        "  optimizer.step()\n",
        "\n",
        "  X.append(epoch)\n",
        "  Y.append(mse.item())\n",
        "  Y_test.append(mse_test.item())\n",
        "\n",
        "  with torch.no_grad():\n",
        "\n",
        "    hypo_test = torch.sum(P[items_test] * Q[users_test], dim=1)\n",
        "    mse_test = F.mse_loss(hypo_test, ratings_test)\n",
        "\n",
        "    if epoch % 100 == 0:\n",
        "      print(f\"epoch: {epoch}, mse: {mse}, mse_test : {mse_test}\")"
      ],
      "execution_count": 25,
      "outputs": [
        {
          "output_type": "stream",
          "name": "stdout",
          "text": [
            "epoch: 0, mse: 23.751380920410156, mse_test : 21.382217407226562\n",
            "epoch: 100, mse: 0.6949196457862854, mse_test : 1.0573499202728271\n",
            "epoch: 200, mse: 0.6442418098449707, mse_test : 1.0566827058792114\n",
            "epoch: 300, mse: 0.6332299113273621, mse_test : 1.0565177202224731\n",
            "epoch: 400, mse: 0.6303738355636597, mse_test : 1.056144118309021\n",
            "epoch: 500, mse: 0.6288658976554871, mse_test : 1.055864691734314\n",
            "epoch: 600, mse: 0.6278494596481323, mse_test : 1.0555577278137207\n",
            "epoch: 700, mse: 0.6272767186164856, mse_test : 1.0556021928787231\n",
            "epoch: 800, mse: 0.626937985420227, mse_test : 1.0561672449111938\n",
            "epoch: 900, mse: 0.6267294883728027, mse_test : 1.0568408966064453\n",
            "epoch: 1000, mse: 0.626614511013031, mse_test : 1.0573112964630127\n"
          ]
        }
      ]
    },
    {
      "cell_type": "code",
      "metadata": {
        "colab": {
          "base_uri": "https://localhost:8080/",
          "height": 279
        },
        "id": "aCWl3b4qfk_L",
        "outputId": "3ad74ff0-5272-4d57-d57b-0a906b50d8fa"
      },
      "source": [
        "plt.ylabel(\"MSE\")\n",
        "plt.xlabel(\"Epoch\")\n",
        "plt.plot(X,Y, c=\"blue\", label=\"Training MSE\")\n",
        "plt.plot(X,Y_test, c=\"red\", label=\"Test MSE\")\n",
        "plt.legend()\n",
        "plt.show()"
      ],
      "execution_count": 26,
      "outputs": [
        {
          "output_type": "display_data",
          "data": {
            "image/png": "[encoded data removed]",
            "text/plain": [
              "<Figure size 432x288 with 1 Axes>"
            ]
          },
          "metadata": {
            "needs_background": "light"
          }
        }
      ]
    },
    {
      "cell_type": "code",
      "metadata": {
        "colab": {
          "base_uri": "https://localhost:8080/"
        },
        "id": "tu8b23rLgdT2",
        "outputId": "5bac1908-4b31-4faa-9256-437c4f6ba90e"
      },
      "source": [
        "rank = 10\n",
        "numItems = items.max() + 1\n",
        "numUsers = users.max() + 1\n",
        "P = torch.randn(numItems, rank, requires_grad=True)\n",
        "Q = torch.randn(numUsers, rank, requires_grad=True)\n",
        "bias_items = torch.randn(numItems, requires_grad=True)\n",
        "bias_user = torch.randn(numUsers, requires_grad=True)\n",
        "mean = (ratings.sum() / len(ratings)).item()\n",
        "\n",
        "optimizer = torch.optim.Adam([P, Q, bias_items, bias_user], lr=0.1)\n",
        "\n",
        "X = []\n",
        "Y = []\n",
        "Y_test = []\n",
        "\n",
        "lambda_P = 0.0001\n",
        "lambda_Q = 0.0001\n",
        "lambda_BI = 0.001\n",
        "lambda_BU = 0.001\n",
        "\n",
        "for epoch in range(1001):\n",
        "  hypo = (P[items] * Q[users]).sum(dim = 1) + mean + bias_items[items] + bias_user[users]\n",
        "  mse = F.mse_loss(hypo, ratings)\n",
        "  cost = mse + lambda_P * (P**2).sum() + lambda_Q *(Q ** 2).sum() + lambda_BI * (bias_items ** 2).sum() + lambda_BU * (bias_user ** 2).sum()\n",
        "  \n",
        "\n",
        "  optimizer.zero_grad()\n",
        "  cost.backward()\n",
        "  optimizer.step()\n",
        "\n",
        "  X.append(epoch)\n",
        "  Y.append(mse.item())\n",
        "  Y_test.append(mse_test.item())\n",
        "\n",
        "  with torch.no_grad():\n",
        "\n",
        "    hypo_test = (P[items_test] * Q[users_test]).sum(dim = 1) + mean + bias_items[items_test] + bias_user[users_test]\n",
        "    mse_test = F.mse_loss(hypo_test, ratings_test)\n",
        "\n",
        "    if epoch % 100 == 0:\n",
        "      print(f\"epoch: {epoch}, mse: {mse}, mse_test : {mse_test}\")"
      ],
      "execution_count": 28,
      "outputs": [
        {
          "output_type": "stream",
          "name": "stdout",
          "text": [
            "epoch: 0, mse: 13.10999870300293, mse_test : 10.012213706970215\n",
            "epoch: 100, mse: 0.633704662322998, mse_test : 0.9297987222671509\n",
            "epoch: 200, mse: 0.6090410351753235, mse_test : 0.9202667474746704\n",
            "epoch: 300, mse: 0.6042695045471191, mse_test : 0.9149354100227356\n",
            "epoch: 400, mse: 0.602924108505249, mse_test : 0.9129859805107117\n",
            "epoch: 500, mse: 0.6024181246757507, mse_test : 0.9117901921272278\n",
            "epoch: 600, mse: 0.6020928025245667, mse_test : 0.9107620716094971\n",
            "epoch: 700, mse: 0.6019647717475891, mse_test : 0.910403847694397\n",
            "epoch: 800, mse: 0.6019353270530701, mse_test : 0.910348117351532\n",
            "epoch: 900, mse: 0.601921021938324, mse_test : 0.9102801084518433\n",
            "epoch: 1000, mse: 0.6019350290298462, mse_test : 0.9102380871772766\n"
          ]
        }
      ]
    },
    {
      "cell_type": "code",
      "metadata": {
        "colab": {
          "base_uri": "https://localhost:8080/",
          "height": 279
        },
        "id": "P_uaDNwmh_jV",
        "outputId": "edc7d6f2-0fb7-453e-f54a-3aebcc09badb"
      },
      "source": [
        "plt.ylabel(\"MSE\")\n",
        "plt.xlabel(\"Epoch\")\n",
        "plt.plot(X,Y, c=\"blue\", label=\"Training MSE\")\n",
        "plt.plot(X,Y_test, c=\"red\", label=\"Test MSE\")\n",
        "plt.legend()\n",
        "plt.show()"
      ],
      "execution_count": 29,
      "outputs": [
        {
          "output_type": "display_data",
          "data": {
            "image/png": "[encoded data removed]",
            "text/plain": [
              "<Figure size 432x288 with 1 Axes>"
            ]
          },
          "metadata": {
            "needs_background": "light"
          }
        }
      ]
    }
  ]
}