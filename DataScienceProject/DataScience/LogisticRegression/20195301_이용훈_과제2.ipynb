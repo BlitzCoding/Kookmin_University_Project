{
  "nbformat": 4,
  "nbformat_minor": 0,
  "metadata": {
    "colab": {
      "name": "20195301_이용훈_과제2",
      "provenance": [],
      "collapsed_sections": []
    },
    "kernelspec": {
      "name": "python3",
      "display_name": "Python 3"
    },
    "language_info": {
      "name": "python"
    }
  },
  "cells": [
    {
      "cell_type": "code",
      "metadata": {
        "id": "gfGnv_cMZGae"
      },
      "source": [
        "# 학습 데이터 생성\n",
        "\n",
        "import torch\n",
        "\n",
        "x_train = torch.FloatTensor([[1],[2],[3],[4],[5],[2.5],[3.5],[0],[3.1],[2.7],[2.8],[2.9]])\n",
        "y_train = torch.FloatTensor([[1],[1],[1],[0],[0],[0],[0],[1],[0],[1],[1],[1]])"
      ],
      "execution_count": 2,
      "outputs": []
    },
    {
      "cell_type": "code",
      "metadata": {
        "id": "NjYMjrtKbWY7"
      },
      "source": [
        "# W, b 초기화\n",
        "# Learning Rate 설정\n",
        "\n",
        "W = torch.zeros(1,1)\n",
        "b = torch.zeros(1,1)\n",
        "\n",
        "lr = 1.0"
      ],
      "execution_count": 3,
      "outputs": []
    },
    {
      "cell_type": "code",
      "metadata": {
        "colab": {
          "base_uri": "https://localhost:8080/"
        },
        "id": "yflBTXnDaqjz",
        "outputId": "818e7a8b-cba5-4dab-bedb-bf987fe7cdb2"
      },
      "source": [
        "# 반복횟수 설정\n",
        "\n",
        "for epoch in range(3001):\n",
        "  W.requires_grad_(True)\n",
        "  b.requires_grad_(True)\n",
        "  # Hypothesis, cost 설정\n",
        "\n",
        "  hypothesis = torch.sigmoid(torch.mm(x_train, W) + b)\n",
        "  cost = torch.mean(\n",
        "      -y_train * torch.log(hypothesis)\n",
        "      -(1 - y_train) * torch.log(1 - hypothesis)\n",
        "  )\n",
        "\n",
        "  #경사 계산, W,b 업데이트\n",
        "\n",
        "  cost.backward()\n",
        "\n",
        "  with torch.no_grad() as grd:\n",
        "    W = W - lr * W.grad\n",
        "    b = b - lr * b.grad\n",
        "\n",
        "  #학습이 잘 되는지 확인 출력\n",
        "\n",
        "\n",
        "  if epoch % 100 == 0:\n",
        "    print('epoch : {}, cost : {:.6f}, W : {:.6f}, b : {:.6f}'.format(\n",
        "        epoch, cost.item(), W.squeeze(), b.squeeze()\n",
        "   ))\n",
        "    \n"
      ],
      "execution_count": 4,
      "outputs": [
        {
          "output_type": "stream",
          "name": "stdout",
          "text": [
            "epoch : 0, cost : 0.693147, W : -0.154167, b : 0.083333\n",
            "epoch : 100, cost : 0.420221, W : -1.451281, b : 4.406925\n",
            "epoch : 200, cost : 0.398721, W : -1.898433, b : 5.773750\n",
            "epoch : 300, cost : 0.390820, W : -2.174322, b : 6.609553\n",
            "epoch : 400, cost : 0.387009, W : -2.367329, b : 7.191599\n",
            "epoch : 500, cost : 0.384924, W : -2.510626, b : 7.622530\n",
            "epoch : 600, cost : 0.383699, W : -2.620779, b : 7.953164\n",
            "epoch : 700, cost : 0.382944, W : -2.707397, b : 8.212804\n",
            "epoch : 800, cost : 0.382463, W : -2.776597, b : 8.420023\n",
            "epoch : 900, cost : 0.382149, W : -2.832521, b : 8.587363\n",
            "epoch : 1000, cost : 0.381941, W : -2.878112, b : 8.723699\n",
            "epoch : 1100, cost : 0.381801, W : -2.915530, b : 8.835541\n",
            "epoch : 1200, cost : 0.381706, W : -2.946401, b : 8.927779\n",
            "epoch : 1300, cost : 0.381641, W : -2.971979, b : 9.004180\n",
            "epoch : 1400, cost : 0.381596, W : -2.993242, b : 9.067673\n",
            "epoch : 1500, cost : 0.381565, W : -3.010968, b : 9.120598\n",
            "epoch : 1600, cost : 0.381543, W : -3.025776, b : 9.164800\n",
            "epoch : 1700, cost : 0.381528, W : -3.038172, b : 9.201797\n",
            "epoch : 1800, cost : 0.381517, W : -3.048561, b : 9.232802\n",
            "epoch : 1900, cost : 0.381509, W : -3.057279, b : 9.258815\n",
            "epoch : 2000, cost : 0.381504, W : -3.064605, b : 9.280675\n",
            "epoch : 2100, cost : 0.381500, W : -3.070765, b : 9.299053\n",
            "epoch : 2200, cost : 0.381497, W : -3.075948, b : 9.314517\n",
            "epoch : 2300, cost : 0.381495, W : -3.080314, b : 9.327539\n",
            "epoch : 2400, cost : 0.381494, W : -3.083991, b : 9.338510\n",
            "epoch : 2500, cost : 0.381493, W : -3.087090, b : 9.347754\n",
            "epoch : 2600, cost : 0.381493, W : -3.089704, b : 9.355551\n",
            "epoch : 2700, cost : 0.381492, W : -3.091908, b : 9.362126\n",
            "epoch : 2800, cost : 0.381492, W : -3.093769, b : 9.367676\n",
            "epoch : 2900, cost : 0.381491, W : -3.095338, b : 9.372355\n",
            "epoch : 3000, cost : 0.381491, W : -3.096662, b : 9.376306\n"
          ]
        }
      ]
    },
    {
      "cell_type": "code",
      "metadata": {
        "colab": {
          "base_uri": "https://localhost:8080/"
        },
        "id": "qRAUtVRdePfY",
        "outputId": "a6f83f39-200a-4263-fcee-24783ccb001b"
      },
      "source": [
        "  x_test = torch.FloatTensor([[4.5],[1.1]])\n",
        "  test_result = torch.sigmoid(torch.mm(x_test, W) + b)\n",
        "  print(torch.round(test_result))"
      ],
      "execution_count": 5,
      "outputs": [
        {
          "output_type": "stream",
          "name": "stdout",
          "text": [
            "tensor([[0.],\n",
            "        [1.]])\n"
          ]
        }
      ]
    },
    {
      "cell_type": "code",
      "metadata": {
        "id": "AJqaLpMmfK3U",
        "colab": {
          "base_uri": "https://localhost:8080/"
        },
        "outputId": "aeb3f194-c88f-489c-c0b7-9c40b7e5c6ff"
      },
      "source": [
        "# 여러가지 optimizer 사용해보기\n",
        "# SGD 사용\n",
        "\n",
        "\n",
        "\n",
        "for epoch in range(3001):\n",
        "  W.requires_grad_(True)\n",
        "  b.requires_grad_(True)\n",
        "\n",
        "\n",
        "  hypothesis = torch.sigmoid(torch.mm(x_train, W) + b)\n",
        "  cost = torch.mean(\n",
        "      -y_train * torch.log(hypothesis)\n",
        "      -(1 - y_train) * torch.log(1 - hypothesis)\n",
        "  )\n",
        "\n",
        "  optimizer = torch.optim.SGD([W,b], lr = 1.0)\n",
        "\n",
        "  optimizer.zero_grad()\n",
        "  optimizer.step()\n",
        "  cost.backward()\n",
        "\n",
        "  if epoch % 100 == 0:\n",
        "    print('epoch : {}, cost : {:.6f}, W : {:.6f}, b : {:.6f}'.format(\n",
        "        epoch, cost.item(), W.squeeze(), b.squeeze()\n",
        "     ))\n"
      ],
      "execution_count": 12,
      "outputs": [
        {
          "output_type": "stream",
          "name": "stdout",
          "text": [
            "epoch : 0, cost : 0.381491, W : -3.096662, b : 9.376306\n",
            "epoch : 100, cost : 0.381491, W : -3.096662, b : 9.376306\n",
            "epoch : 200, cost : 0.381491, W : -3.096662, b : 9.376306\n",
            "epoch : 300, cost : 0.381491, W : -3.096662, b : 9.376306\n",
            "epoch : 400, cost : 0.381491, W : -3.096662, b : 9.376306\n",
            "epoch : 500, cost : 0.381491, W : -3.096662, b : 9.376306\n",
            "epoch : 600, cost : 0.381491, W : -3.096662, b : 9.376306\n",
            "epoch : 700, cost : 0.381491, W : -3.096662, b : 9.376306\n",
            "epoch : 800, cost : 0.381491, W : -3.096662, b : 9.376306\n",
            "epoch : 900, cost : 0.381491, W : -3.096662, b : 9.376306\n",
            "epoch : 1000, cost : 0.381491, W : -3.096662, b : 9.376306\n",
            "epoch : 1100, cost : 0.381491, W : -3.096662, b : 9.376306\n",
            "epoch : 1200, cost : 0.381491, W : -3.096662, b : 9.376306\n",
            "epoch : 1300, cost : 0.381491, W : -3.096662, b : 9.376306\n",
            "epoch : 1400, cost : 0.381491, W : -3.096662, b : 9.376306\n",
            "epoch : 1500, cost : 0.381491, W : -3.096662, b : 9.376306\n",
            "epoch : 1600, cost : 0.381491, W : -3.096662, b : 9.376306\n",
            "epoch : 1700, cost : 0.381491, W : -3.096662, b : 9.376306\n",
            "epoch : 1800, cost : 0.381491, W : -3.096662, b : 9.376306\n",
            "epoch : 1900, cost : 0.381491, W : -3.096662, b : 9.376306\n",
            "epoch : 2000, cost : 0.381491, W : -3.096662, b : 9.376306\n",
            "epoch : 2100, cost : 0.381491, W : -3.096662, b : 9.376306\n",
            "epoch : 2200, cost : 0.381491, W : -3.096662, b : 9.376306\n",
            "epoch : 2300, cost : 0.381491, W : -3.096662, b : 9.376306\n",
            "epoch : 2400, cost : 0.381491, W : -3.096662, b : 9.376306\n",
            "epoch : 2500, cost : 0.381491, W : -3.096662, b : 9.376306\n",
            "epoch : 2600, cost : 0.381491, W : -3.096662, b : 9.376306\n",
            "epoch : 2700, cost : 0.381491, W : -3.096662, b : 9.376306\n",
            "epoch : 2800, cost : 0.381491, W : -3.096662, b : 9.376306\n",
            "epoch : 2900, cost : 0.381491, W : -3.096662, b : 9.376306\n",
            "epoch : 3000, cost : 0.381491, W : -3.096662, b : 9.376306\n"
          ]
        }
      ]
    },
    {
      "cell_type": "code",
      "metadata": {
        "colab": {
          "base_uri": "https://localhost:8080/",
          "height": 279
        },
        "id": "fr0Dgsh_f3D9",
        "outputId": "74f138c1-9b43-4584-d320-ffab867ecbed"
      },
      "source": [
        "#Matplotlib으로 결과 시각화\n",
        "\n",
        "import matplotlib.pyplot as plt\n",
        "\n",
        "W.requires_grad_(False)\n",
        "b.requires_grad_(False)\n",
        "\n",
        "plt.scatter(x_train, y_train)\n",
        "\n",
        "X = torch.linspace(0, 5, 100).unsqueeze(1)\n",
        "Y = torch.sigmoid(torch.mm(X,W) + b)\n",
        "plt.ylabel(\"Porbability of 1 (Y)\")\n",
        "plt.xlabel(\"Input (X)\")\n",
        "plt.plot(X,Y)\n",
        "plt.show()"
      ],
      "execution_count": 7,
      "outputs": [
        {
          "output_type": "display_data",
          "data": {
            "image/png": "[encoded data removed]",
            "text/plain": [
              "<Figure size 432x288 with 1 Axes>"
            ]
          },
          "metadata": {
            "needs_background": "light"
          }
        }
      ]
    },
    {
      "cell_type": "code",
      "metadata": {
        "colab": {
          "base_uri": "https://localhost:8080/",
          "height": 265
        },
        "id": "ViO9x2mpg169",
        "outputId": "e2d32def-f5c4-4347-d056-532cf9c927b9"
      },
      "source": [
        "plt.scatter(x_train, y_train, c=\"black\")\n",
        "plt.plot(X,Y, c=\"#ff0000\")\n",
        "plt.show()"
      ],
      "execution_count": 8,
      "outputs": [
        {
          "output_type": "display_data",
          "data": {
            "image/png": "[encoded data removed]",
            "text/plain": [
              "<Figure size 432x288 with 1 Axes>"
            ]
          },
          "metadata": {
            "needs_background": "light"
          }
        }
      ]
    },
    {
      "cell_type": "code",
      "metadata": {
        "colab": {
          "base_uri": "https://localhost:8080/",
          "height": 283
        },
        "id": "5a-8-M1Lg8U6",
        "outputId": "9b2309cf-326c-4937-9788-22be7fbe5f93"
      },
      "source": [
        "plt.scatter(x_train, y_train, c = \"black\", label = \"Training data\")\n",
        "plt.plot(X, Y, c=\"#ff0000\", label = \"Fitting line\")\n",
        "plt.legend()"
      ],
      "execution_count": 9,
      "outputs": [
        {
          "output_type": "execute_result",
          "data": {
            "text/plain": [
              "<matplotlib.legend.Legend at 0x7fcf14c52710>"
            ]
          },
          "metadata": {},
          "execution_count": 9
        },
        {
          "output_type": "display_data",
          "data": {
            "image/png": "[encoded data removed]",
            "text/plain": [
              "<Figure size 432x288 with 1 Axes>"
            ]
          },
          "metadata": {
            "needs_background": "light"
          }
        }
      ]
    },
    {
      "cell_type": "code",
      "metadata": {
        "colab": {
          "base_uri": "https://localhost:8080/"
        },
        "id": "zVxfCHkWhFLa",
        "outputId": "bc591f6e-e677-45ee-fdb3-40d197271986"
      },
      "source": [
        "# 사이킷런에서 Logistic Regression 사용\n",
        "\n",
        "from sklearn.linear_model import LogisticRegression\n",
        "\n",
        "x_train = [[1], [2], [3], [4], [5], [2.5], [3.5], [0], [3.1], [2.7], [2.8], [2.9]]\n",
        "y_train = [1, 1, 1, 0, 0, 0, 0, 1, 0, 1, 1, 1]\n",
        "\n",
        "model = LogisticRegression(penalty = 'none')\n",
        "model.fit(x_train, y_train)\n",
        "\n",
        "print(model.coef_, model.intercept_)\n",
        "\n",
        "x_test = [[4.5],[1.1]]\n",
        "test_result = model.predict(x_test)\n",
        "\n",
        "print(test_result)\n"
      ],
      "execution_count": null,
      "outputs": [
        {
          "output_type": "stream",
          "name": "stdout",
          "text": [
            "[[-3.10385806]] [9.39776831]\n",
            "[0 1]\n"
          ]
        }
      ]
    }
  ]
}