{
  "nbformat": 4,
  "nbformat_minor": 0,
  "metadata": {
    "colab": {
      "name": "20195301_이용훈_과제3.ipynb",
      "provenance": [],
      "collapsed_sections": []
    },
    "kernelspec": {
      "name": "python3",
      "display_name": "Python 3"
    },
    "language_info": {
      "name": "python"
    }
  },
  "cells": [
    {
      "cell_type": "code",
      "metadata": {
        "colab": {
          "base_uri": "https://localhost:8080/"
        },
        "id": "vwGUKAtePkql",
        "outputId": "5944abac-8df9-498e-d1ec-d0f00c941729"
      },
      "source": [
        "# 학습 데이터 생성\n",
        "\n",
        "import torch\n",
        "\n",
        "x_train = torch.FloatTensor([[1,2,1,1], [2,1,3,2], [3,1,3,4], [4,1,5,5], [1,7,5,5],\n",
        " [1,2,5,6], [1,6,6,6], [1,7,7,7]])\n",
        "y_train = torch.FloatTensor([[0,0,1], [0,0,1], [0,0,1], [0,1,0], [0,1,0], [0,1,0],\n",
        " [1,0,0], [1,0,0]])\n",
        "\n",
        "# W, b 초기화, Optimizer 생성\n",
        "\n",
        "W = torch.zeros(4, 3, requires_grad=True)\n",
        "b = torch.zeros(1, 3, requires_grad=True)\n",
        "\n",
        "optimizer = torch.optim.Adam([W,b], lr = 0.1)\n",
        "\n",
        "#반복횟수 설정, 가설 및 비용 설정\n",
        "\n",
        "for epoch in range(3001):\n",
        "  hypothesis = torch.softmax(torch.mm(x_train, W) + b, dim = 1)\n",
        "  cost = -torch.mean(torch.sum(y_train * torch.log(hypothesis), dim = 1))\n",
        "\n",
        "  optimizer.zero_grad()\n",
        "  cost.backward()\n",
        "  optimizer.step()\n",
        "\n",
        "  if epoch % 300 == 0:\n",
        "    print(\"epoch : {}, cost : {:.6f}\".format(epoch, cost.item()))\n",
        "    "
      ],
      "execution_count": 16,
      "outputs": [
        {
          "output_type": "stream",
          "name": "stdout",
          "text": [
            "epoch : 0, cost : 1.098612\n",
            "epoch : 300, cost : 0.105262\n",
            "epoch : 600, cost : 0.042634\n",
            "epoch : 900, cost : 0.023111\n",
            "epoch : 1200, cost : 0.014479\n",
            "epoch : 1500, cost : 0.009879\n",
            "epoch : 1800, cost : 0.007124\n",
            "epoch : 2100, cost : 0.005338\n",
            "epoch : 2400, cost : 0.004113\n",
            "epoch : 2700, cost : 0.003236\n",
            "epoch : 3000, cost : 0.002588\n"
          ]
        }
      ]
    },
    {
      "cell_type": "code",
      "metadata": {
        "colab": {
          "base_uri": "https://localhost:8080/"
        },
        "id": "Vy1ovi2HTG9A",
        "outputId": "d1e9b0bd-5a41-4071-9daa-86f13e083662"
      },
      "source": [
        "# x 가 [1,11,10,9], [1,3,4,3], [1,1,0,1] 일 때, y값은?\n",
        "\n",
        "W.requires_grad_(False)\n",
        "b.requires_grad_(False)\n",
        "\n",
        "x_test = torch.FloatTensor([[1,11,10,9], [1,3,4,3], [1,1,0,1]])\n",
        "test_all = torch.softmax(torch.mm(x_test, W)+b, dim=1)\n",
        "print(test_all)\n",
        "print(torch.argmax(test_all, dim=1))"
      ],
      "execution_count": 6,
      "outputs": [
        {
          "output_type": "stream",
          "name": "stdout",
          "text": [
            "tensor([[1.0000e+00, 5.5165e-19, 7.0151e-38],\n",
            "        [1.4800e-02, 7.4294e-01, 2.4226e-01],\n",
            "        [1.2256e-33, 9.0835e-12, 1.0000e+00]])\n",
            "tensor([0, 1, 2])\n"
          ]
        }
      ]
    },
    {
      "cell_type": "code",
      "metadata": {
        "colab": {
          "base_uri": "https://localhost:8080/"
        },
        "id": "-GHJwufEWXth",
        "outputId": "7e8baf51-ae27-4254-95d3-aaf1c6398b82"
      },
      "source": [
        "# 깔끔한 Softmax\n",
        "\n",
        "import torch.nn.functional as F\n",
        "import torch.nn as nn\n",
        "\n",
        "x_train = torch.FloatTensor([[1,2,1,1], [2,1,3,2], [3,1,3,4], [4,1,5,5], [1,7,5,5],\n",
        " [1,2,5,6], [1,6,6,6], [1,7,7,7]])\n",
        "y_train = torch.LongTensor([2,2,2,1,1,1,0,0])\n",
        "\n",
        "model = nn.Linear(4,3)\n",
        "optimizer = torch.optim.Adam(model.parameters(),lr=1)\n",
        "\n",
        "for epoch in range(3001):\n",
        "  # z = torch.mm(x_train, W) + b\n",
        "  z = model(x_train)\n",
        "  cost = F.cross_entropy(z, y_train)\n",
        "\n",
        "  optimizer.zero_grad()\n",
        "  cost.backward()\n",
        "  optimizer.step()\n",
        "\n",
        "  if epoch % 300 == 0:\n",
        "    print(\"epoch : {}, cost : {:.6f}\".format(epoch, cost.item()))"
      ],
      "execution_count": 15,
      "outputs": [
        {
          "output_type": "stream",
          "name": "stdout",
          "text": [
            "epoch : 0, cost : 2.372346\n",
            "epoch : 300, cost : 0.026314\n",
            "epoch : 600, cost : 0.010388\n",
            "epoch : 900, cost : 0.005614\n",
            "epoch : 1200, cost : 0.003523\n",
            "epoch : 1500, cost : 0.002410\n",
            "epoch : 1800, cost : 0.001742\n",
            "epoch : 2100, cost : 0.001308\n",
            "epoch : 2400, cost : 0.001010\n",
            "epoch : 2700, cost : 0.000796\n",
            "epoch : 3000, cost : 0.000637\n"
          ]
        }
      ]
    },
    {
      "cell_type": "code",
      "metadata": {
        "colab": {
          "base_uri": "https://localhost:8080/"
        },
        "id": "lAjmYEhkYx6N",
        "outputId": "7db0f70b-43c1-46bf-cf11-c4a29d019452"
      },
      "source": [
        "import numpy as np\n",
        "from sklearn.linear_model import LogisticRegression\n",
        "\n",
        "x_train = np.array([[1,2,1,1], [2,1,3,2], [3,1,3,4], [4,1,5,5], [1,7,5,5], [1,2,5,6], [1,6,6,6], [1,7,7,7]])\n",
        "\n",
        "y_train = np.array([ 2, 2, 2, 1, 1, 1, 0, 0 ])\n",
        "\n",
        "logistic = LogisticRegression() # 모델 생성\n",
        "logistic.fit(x_train, y_train)  # 학습\n",
        "\n",
        "pred = logistic.predict([[1,11,10,9], [1,3,4,3], [1,1,0,1]]) # test case (값 예측)\n",
        "print(pred)"
      ],
      "execution_count": 18,
      "outputs": [
        {
          "output_type": "stream",
          "name": "stdout",
          "text": [
            "[0 2 2]\n"
          ]
        }
      ]
    }
  ]
}